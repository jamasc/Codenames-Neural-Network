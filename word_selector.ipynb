{
 "cells": [
  {
   "cell_type": "code",
   "execution_count": 3,
   "id": "49ecac24-3cea-42c7-bf26-0eff8f1faab3",
   "metadata": {},
   "outputs": [
    {
     "name": "stdout",
     "output_type": "stream",
     "text": [
      "Old wordlist: 3180, New wordlist: 1615\n"
     ]
    }
   ],
   "source": [
    "#word selector\n",
    "from PIL import Image\n",
    "import torch\n",
    "from transformers import CLIPProcessor, CLIPModel\n",
    "import os\n",
    "\n",
    "torch.cuda.empty_cache()\n",
    "\n",
    "def get_words(image_dir):\n",
    "    image_paths = [os.path.join(image_dir, img) for img in os.listdir(image_dir) if img.endswith(('.jpg', '.png'))]\n",
    "    for num, image_path in enumerate(image_paths):\n",
    "        print(f\"Progress: {num+1}/{len(image_paths)}\", end=\"\\r\")\n",
    "        image = Image.open(image_path).convert(\"RGB\")\n",
    "        input = processor(text=wordlist_og, images=image, return_tensors='pt', padding=True)\n",
    "        input = {key: val.to(device) for key, val in input.items()}\n",
    "        output = model(**input)\n",
    "        logits_per_image = output.logits_per_image\n",
    "        probs = logits_per_image.softmax(dim=1)\n",
    "        sorted_probs, sorted_indices = torch.sort(probs, descending=True)\n",
    "        i = 0\n",
    "        this_prob = sorted_probs[0,i].item()\n",
    "        while this_prob > threshold:\n",
    "            index = sorted_indices[0,i].item()\n",
    "            selected_indices.add(index)\n",
    "            i += 1\n",
    "            this_prob = sorted_probs[0,i].item()\n",
    "\n",
    "threshold = 0.001\n",
    "selected_indices = set()\n",
    "\n",
    "device = torch.device(\"cuda\" if torch.cuda.is_available() else \"cpu\")\n",
    "\n",
    "model = CLIPModel.from_pretrained(\"openai/clip-vit-base-patch32\").to(device)\n",
    "processor = CLIPProcessor.from_pretrained(\"openai/clip-vit-base-patch32\")\n",
    "\n",
    "image_dir1 = 'Images/codenames_og'\n",
    "image_dir2 = 'Images/coco_val2017/val2017'\n",
    "\n",
    "with open(\"wordlist/wordlist_gh_allx.txt\", \"r\", encoding=\"UTF-8\") as f:\n",
    "    wordlist_og = [line.strip() for line in f]\n",
    "\n",
    "get_words(image_dir1)\n",
    "#get_words(image_dir2)\n",
    "            \n",
    "new_wordlist = []\n",
    "for index in selected_indices:\n",
    "    new_wordlist.append(wordlist_og[index])\n",
    "\n",
    "print(f\"Old wordlist: {len(wordlist_og)}, New wordlist: {len(new_wordlist)}\")\n",
    "\n",
    "with open(\"wordlist/selected_words_point001.txt\", \"w\") as file:\n",
    "    for word in new_wordlist:\n",
    "        file.write(word + \"\\n\")"
   ]
  },
  {
   "cell_type": "code",
   "execution_count": null,
   "id": "9cc3c557-de6b-49c3-8099-537969626144",
   "metadata": {},
   "outputs": [],
   "source": []
  }
 ],
 "metadata": {
  "kernelspec": {
   "display_name": "myenv",
   "language": "python",
   "name": "myenv"
  },
  "language_info": {
   "codemirror_mode": {
    "name": "ipython",
    "version": 3
   },
   "file_extension": ".py",
   "mimetype": "text/x-python",
   "name": "python",
   "nbconvert_exporter": "python",
   "pygments_lexer": "ipython3",
   "version": "3.10.15"
  }
 },
 "nbformat": 4,
 "nbformat_minor": 5
}
