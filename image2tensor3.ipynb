{
 "cells": [
  {
   "cell_type": "code",
   "execution_count": 1,
   "id": "c9d62758-c96a-44ff-a9c6-1483c95b6e1c",
   "metadata": {},
   "outputs": [
    {
     "name": "stderr",
     "output_type": "stream",
     "text": [
      "/home/jans26/.conda/envs/myenv/lib/python3.10/site-packages/tqdm/auto.py:21: TqdmWarning: IProgress not found. Please update jupyter and ipywidgets. See https://ipywidgets.readthedocs.io/en/stable/user_install.html\n",
      "  from .autonotebook import tqdm as notebook_tqdm\n"
     ]
    },
    {
     "name": "stdout",
     "output_type": "stream",
     "text": [
      "made new directory\n",
      "random test word: post\n",
      "doneress: 5000/5000\n"
     ]
    }
   ],
   "source": [
    "#code to load a dataset and save the tensors in a new directory (image to tensor)\n",
    "from torch.utils.data import Dataset\n",
    "import os\n",
    "import torch\n",
    "from PIL import Image\n",
    "from transformers import CLIPModel, CLIPProcessor\n",
    "\n",
    "wordlist_path = \"wordlist/selected_words_point001.txt\" \n",
    "image_dir = \"Images/coco_val2017/val2017\"\n",
    "\n",
    "torch.cuda.empty_cache()\n",
    "\n",
    "device = torch.device(\"cuda\" if torch.cuda.is_available() else \"cpu\")\n",
    "\n",
    "processor = CLIPProcessor.from_pretrained(\"openai/clip-vit-base-patch32\")\n",
    "clip_model = CLIPModel.from_pretrained(\"openai/clip-vit-base-patch32\").to(device)\n",
    "\n",
    "new_dir_path = \"Images/coco_val2017/new_tensors\"\n",
    "\n",
    "os.makedirs(new_dir_path, exist_ok=True)\n",
    "print('made new directory')\n",
    "\n",
    "with open(wordlist_path, 'r') as f:\n",
    "    wordlist = [line.strip() for line in f if line.strip()]\n",
    "print(f\"random test word: {wordlist[69]}\")\n",
    "image_paths = [os.path.join(image_dir, img) for img in os.listdir(image_dir) if img.endswith(('.jpg', '.png'))]\n",
    "images = [Image.open(img).convert(\"RGB\") for img in image_paths]\n",
    "\n",
    "for i, image in enumerate(images):\n",
    "    print(f\"Progress: {i+1}/{len(images)}\", end=\"\\r\")\n",
    "    #get clip output\n",
    "    clip_input = processor(text=wordlist, images=image, return_tensors='pt', padding=True)\n",
    "    clip_input = {key: val.to(device) for key, val in clip_input.items()}\n",
    "    clip_output = clip_model(**clip_input)\n",
    "    logits = clip_output.logits_per_image\n",
    "    probs = logits.softmax(dim=1)\n",
    "    #print(probs)\n",
    "    #save in new directory\n",
    "    filename = new_dir_path + f\"/tensor_{i}.pt\"\n",
    "    torch.save(probs, filename)\n",
    "print('done')"
   ]
  },
  {
   "cell_type": "code",
   "execution_count": null,
   "id": "cd388014-0424-4b2f-8161-c265f86a2393",
   "metadata": {},
   "outputs": [],
   "source": []
  }
 ],
 "metadata": {
  "kernelspec": {
   "display_name": "myenv",
   "language": "python",
   "name": "myenv"
  },
  "language_info": {
   "codemirror_mode": {
    "name": "ipython",
    "version": 3
   },
   "file_extension": ".py",
   "mimetype": "text/x-python",
   "name": "python",
   "nbconvert_exporter": "python",
   "pygments_lexer": "ipython3",
   "version": "3.10.15"
  }
 },
 "nbformat": 4,
 "nbformat_minor": 5
}
